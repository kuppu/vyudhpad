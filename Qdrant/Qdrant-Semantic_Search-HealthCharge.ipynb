{
 "cells": [
  {
   "cell_type": "markdown",
   "id": "77448887-ed71-48e1-bf0d-2ff499d0c7ca",
   "metadata": {},
   "source": [
    "# Lesson 1 - Semantic Search"
   ]
  },
  {
   "cell_type": "markdown",
   "id": "3c3ea165",
   "metadata": {},
   "source": [
    "##### pip install qdrant-client"
   ]
  },
  {
   "cell_type": "markdown",
   "id": "750cd7dd",
   "metadata": {},
   "source": [
    "### Import the Needed Packages"
   ]
  },
  {
   "cell_type": "code",
   "execution_count": null,
   "id": "809aa032-d737-450d-aafa-e32bfba9d8f8",
   "metadata": {
    "height": 47
   },
   "outputs": [],
   "source": [
    "import warnings\n",
    "warnings.filterwarnings('ignore')"
   ]
  },
  {
   "cell_type": "code",
   "execution_count": null,
   "id": "9a073968",
   "metadata": {},
   "outputs": [],
   "source": [
    "from qdrant_client import QdrantClient"
   ]
  },
  {
   "cell_type": "code",
   "execution_count": null,
   "id": "30698fb9-4709-4088-9905-9ccb4efd5e09",
   "metadata": {
    "height": 166
   },
   "outputs": [],
   "source": [
    "from datasets import load_dataset\n",
    "from sentence_transformers import SentenceTransformer\n",
    "from qdrant_client import models, QdrantClient\n",
    "import pandas as pd\n",
    "\n",
    "# import zipfile\n",
    "\n",
    "# import os\n",
    "# import time\n",
    "import torch"
   ]
  },
  {
   "cell_type": "code",
   "execution_count": null,
   "id": "8ab484bb-3bfb-4c52-a5bd-bcbe4a7a63d2",
   "metadata": {
    "height": 30
   },
   "outputs": [],
   "source": [
    "from tqdm.auto import tqdm"
   ]
  },
  {
   "cell_type": "markdown",
   "id": "ab3c0402",
   "metadata": {},
   "source": [
    "### Check cuda and Setup the model\n",
    "\n",
    "**Note**: \"Checking cuda\" refers to checking if you have access to GPUs (faster compute). In this course, we are using CPUs. So, you might notice some code cells taking a little longer to run.\n",
    "\n",
    "We are using *all-MiniLM-L6-v2* sentence-transformers model that maps sentences to a 384 dimensional dense vector space."
   ]
  },
  {
   "cell_type": "code",
   "execution_count": null,
   "id": "5fb67759-ab38-4472-bfb0-4a56d1c05955",
   "metadata": {
    "height": 81
   },
   "outputs": [],
   "source": [
    "device = 'cuda' if torch.cuda.is_available() else 'cpu'\n",
    "if device != 'cuda':\n",
    "    print('Sorry no cuda.')\n",
    "else:\n",
    "    print('Using CUDA-GPU')\n",
    "encoderModel = SentenceTransformer('all-MiniLM-L6-v2', device=device) # Model to create embeddings"
   ]
  },
  {
   "cell_type": "code",
   "execution_count": null,
   "id": "d90ec5ec-5397-4ed5-8163-7a901b6ecb0c",
   "metadata": {
    "height": 64
   },
   "outputs": [],
   "source": [
    "query = 'Admin of Flumist Influenza Vaccine'\n",
    "xq = encoderModel.encode(query)\n",
    "xq.shape\n",
    "xq"
   ]
  },
  {
   "cell_type": "markdown",
   "id": "3fd06060",
   "metadata": {},
   "source": [
    "### Setup Qdrant"
   ]
  },
  {
   "cell_type": "code",
   "execution_count": null,
   "id": "139ed2ff",
   "metadata": {},
   "outputs": [],
   "source": [
    "# qdrant = QdrantClient(\":memory:\") # Create in-memory Qdrant instance, for testing, CI/CD\n",
    "# # OR\n",
    "# client = QdrantClient(path=\"path/to/db\")  # Persists changes to disk, fast prototyping\n",
    "\n",
    "qdrant = QdrantClient(\"http://localhost:6333\") # Connect to existing Qdrant instance, for production"
   ]
  },
  {
   "cell_type": "code",
   "execution_count": null,
   "id": "6d7a313d",
   "metadata": {},
   "outputs": [],
   "source": [
    "qdrant.get_collection(collection_name=\"HospitalCharges\")"
   ]
  },
  {
   "cell_type": "code",
   "execution_count": null,
   "id": "a76c411f",
   "metadata": {},
   "outputs": [],
   "source": [
    "# Let's now search for something\n",
    "\n",
    "hits = qdrant.search(\n",
    "    collection_name=\"HospitalCharges\",\n",
    "    query_vector=encoderModel.encode(\"Admin of Flumist Influenza Vaccine\").tolist(),\n",
    "    limit=30\n",
    ")\n",
    "for hit in hits:\n",
    "  print(hit.payload, \"score:\", hit.score)"
   ]
  },
  {
   "cell_type": "code",
   "execution_count": null,
   "id": "260ce013",
   "metadata": {},
   "outputs": [],
   "source": [
    "hits[20]"
   ]
  },
  {
   "cell_type": "code",
   "execution_count": null,
   "id": "8a9f9314",
   "metadata": {},
   "outputs": [],
   "source": [
    "type(hits[0].payload)"
   ]
  },
  {
   "cell_type": "code",
   "execution_count": null,
   "id": "cd4af952",
   "metadata": {},
   "outputs": [],
   "source": [
    "pd.DataFrame([hit.payload for hit in hits])"
   ]
  },
  {
   "cell_type": "code",
   "execution_count": null,
   "id": "3c2736f4",
   "metadata": {},
   "outputs": [],
   "source": [
    "dfResults = pd.DataFrame([hit.payload for hit in hits])"
   ]
  },
  {
   "cell_type": "code",
   "execution_count": null,
   "id": "ed7daa58",
   "metadata": {},
   "outputs": [],
   "source": [
    "dfResults"
   ]
  },
  {
   "cell_type": "code",
   "execution_count": null,
   "id": "a2220a64",
   "metadata": {},
   "outputs": [],
   "source": [
    "# Let's now search only for books from 21st century\n",
    "\n",
    "hits = qdrant.search(\n",
    "    collection_name=\"HospitalCharges\",\n",
    "    query_vector=encoderModel.encode(\"Admin of Flumist Influenza Vaccine\").tolist(),\n",
    "    query_filter=models.Filter(\n",
    "        must=[\n",
    "            models.FieldCondition(\n",
    "                key=\"payer\",\n",
    "                range=models.Range(\n",
    "                    gte=2000\n",
    "                )\n",
    "            )\n",
    "        ]\n",
    "    ),\n",
    "    limit=3\n",
    ")\n",
    "for hit in hits:\n",
    "  print(hit.payload, \"score:\", hit.score)"
   ]
  },
  {
   "cell_type": "code",
   "execution_count": null,
   "id": "a902d520",
   "metadata": {},
   "outputs": [],
   "source": [
    "hits"
   ]
  },
  {
   "cell_type": "code",
   "execution_count": null,
   "id": "63de4641",
   "metadata": {},
   "outputs": [],
   "source": [
    "dfResults"
   ]
  },
  {
   "cell_type": "code",
   "execution_count": null,
   "id": "a37a0d20",
   "metadata": {},
   "outputs": [],
   "source": []
  }
 ],
 "metadata": {
  "kernelspec": {
   "display_name": "Python 3 (ipykernel)",
   "language": "python",
   "name": "python3"
  },
  "language_info": {
   "codemirror_mode": {
    "name": "ipython",
    "version": 3
   },
   "file_extension": ".py",
   "mimetype": "text/x-python",
   "name": "python",
   "nbconvert_exporter": "python",
   "pygments_lexer": "ipython3",
   "version": "3.9.13"
  }
 },
 "nbformat": 4,
 "nbformat_minor": 5
}
